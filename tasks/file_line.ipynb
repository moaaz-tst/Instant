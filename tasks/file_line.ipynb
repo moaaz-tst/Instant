{
 "cells": [
  {
   "cell_type": "code",
   "execution_count": 1,
   "id": "2c09b956",
   "metadata": {},
   "outputs": [],
   "source": [
    "with open('test.txt', 'r') as file:\n",
    "    data = file.readlines()\n",
    "data[1] = 'life is hard\\n'\n",
    "\n",
    "# and write everything back\n",
    "with open('test.txt', 'w') as file:\n",
    "    file.writelines( data )"
   ]
  },
  {
   "cell_type": "code",
   "execution_count": null,
   "id": "f981b8a5",
   "metadata": {},
   "outputs": [],
   "source": []
  }
 ],
 "metadata": {
  "kernelspec": {
   "display_name": "Python 3 (ipykernel)",
   "language": "python",
   "name": "python3"
  },
  "language_info": {
   "codemirror_mode": {
    "name": "ipython",
    "version": 3
   },
   "file_extension": ".py",
   "mimetype": "text/x-python",
   "name": "python",
   "nbconvert_exporter": "python",
   "pygments_lexer": "ipython3",
   "version": "3.11.3"
  }
 },
 "nbformat": 4,
 "nbformat_minor": 5
}
